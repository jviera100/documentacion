{
  "cells": [
    {
      "cell_type": "code",
      "execution_count": 1,
      "metadata": {
        "colab": {
          "base_uri": "https://localhost:8080/"
        },
        "id": "NrHJ-woguzmL",
        "outputId": "6917fae9-8ce8-4c5e-d63a-ec698b2d4308"
      },
      "outputs": [
        {
          "name": "stdout",
          "output_type": "stream",
          "text": [
            "\r0% [Working]\r            \rGet:1 http://security.ubuntu.com/ubuntu jammy-security InRelease [110 kB]\n",
            "\r0% [Waiting for headers] [1 InRelease 0 B/110 kB 0%] [Connected to cloud.r-proj\r                                                                               \rHit:2 http://archive.ubuntu.com/ubuntu jammy InRelease\n",
            "\r0% [Waiting for headers] [1 InRelease 38.8 kB/110 kB 35%] [Waiting for headers]\r                                                                               \rGet:3 https://cloud.r-project.org/bin/linux/ubuntu jammy-cran40/ InRelease [3,626 B]\n",
            "\r0% [Waiting for headers] [1 InRelease 38.8 kB/110 kB 35%] [Connecting to ppa.la\r                                                                               \rGet:4 http://archive.ubuntu.com/ubuntu jammy-updates InRelease [119 kB]\n",
            "Hit:5 https://developer.download.nvidia.com/compute/cuda/repos/ubuntu2204/x86_64  InRelease\n",
            "Hit:6 http://archive.ubuntu.com/ubuntu jammy-backports InRelease\n",
            "Hit:7 https://ppa.launchpadcontent.net/c2d4u.team/c2d4u4.0+/ubuntu jammy InRelease\n",
            "Get:8 http://security.ubuntu.com/ubuntu jammy-security/universe amd64 Packages [1,046 kB]\n",
            "Hit:9 https://ppa.launchpadcontent.net/deadsnakes/ppa/ubuntu jammy InRelease\n",
            "Hit:10 https://ppa.launchpadcontent.net/graphics-drivers/ppa/ubuntu jammy InRelease\n",
            "Get:11 http://archive.ubuntu.com/ubuntu jammy-updates/main amd64 Packages [1,599 kB]\n",
            "Get:12 http://security.ubuntu.com/ubuntu jammy-security/main amd64 Packages [1,326 kB]\n",
            "Hit:13 https://ppa.launchpadcontent.net/ubuntugis/ppa/ubuntu jammy InRelease\n",
            "Get:14 http://archive.ubuntu.com/ubuntu jammy-updates/universe amd64 Packages [1,305 kB]\n",
            "Fetched 5,509 kB in 2s (3,459 kB/s)\n",
            "Reading package lists... Done\n",
            "Reading package lists... Done\n",
            "Building dependency tree... Done\n",
            "Reading state information... Done\n",
            "lsb-release is already the newest version (11.1.0ubuntu4).\n",
            "lsb-release set to manually installed.\n",
            "curl is already the newest version (7.81.0-1ubuntu1.15).\n",
            "gnupg is already the newest version (2.2.27-3ubuntu2.1).\n",
            "gnupg set to manually installed.\n",
            "The following NEW packages will be installed:\n",
            "  apt-transport-https\n",
            "0 upgraded, 1 newly installed, 0 to remove and 27 not upgraded.\n",
            "Need to get 1,510 B of archives.\n",
            "After this operation, 170 kB of additional disk space will be used.\n",
            "Get:1 http://archive.ubuntu.com/ubuntu jammy-updates/universe amd64 apt-transport-https all 2.4.11 [1,510 B]\n",
            "Fetched 1,510 B in 0s (20.6 kB/s)\n",
            "Selecting previously unselected package apt-transport-https.\n",
            "(Reading database ... 121658 files and directories currently installed.)\n",
            "Preparing to unpack .../apt-transport-https_2.4.11_all.deb ...\n",
            "Unpacking apt-transport-https (2.4.11) ...\n",
            "Setting up apt-transport-https (2.4.11) ...\n",
            "Hit:1 http://archive.ubuntu.com/ubuntu jammy InRelease\n",
            "Hit:2 https://cloud.r-project.org/bin/linux/ubuntu jammy-cran40/ InRelease\n",
            "Hit:3 http://archive.ubuntu.com/ubuntu jammy-updates InRelease\n",
            "Hit:4 https://developer.download.nvidia.com/compute/cuda/repos/ubuntu2204/x86_64  InRelease\n",
            "Hit:5 http://archive.ubuntu.com/ubuntu jammy-backports InRelease\n",
            "Get:6 https://packages.microsoft.com/repos/azure-cli jammy InRelease [3,595 B]\n",
            "Hit:7 http://security.ubuntu.com/ubuntu jammy-security InRelease\n",
            "Hit:8 https://ppa.launchpadcontent.net/c2d4u.team/c2d4u4.0+/ubuntu jammy InRelease\n",
            "Hit:9 https://ppa.launchpadcontent.net/deadsnakes/ppa/ubuntu jammy InRelease\n",
            "Hit:10 https://ppa.launchpadcontent.net/graphics-drivers/ppa/ubuntu jammy InRelease\n",
            "Hit:11 https://ppa.launchpadcontent.net/ubuntugis/ppa/ubuntu jammy InRelease\n",
            "Get:12 https://packages.microsoft.com/repos/azure-cli jammy/main all Packages [1,099 B]\n",
            "Get:13 https://packages.microsoft.com/repos/azure-cli jammy/main amd64 Packages [1,242 B]\n",
            "Fetched 5,936 B in 2s (3,722 B/s)\n",
            "Reading package lists... Done\n",
            "Reading package lists... Done\n",
            "Building dependency tree... Done\n",
            "Reading state information... Done\n",
            "The following NEW packages will be installed:\n",
            "  azure-cli\n",
            "0 upgraded, 1 newly installed, 0 to remove and 27 not upgraded.\n",
            "Need to get 65.6 MB of archives.\n",
            "After this operation, 802 MB of additional disk space will be used.\n",
            "Get:1 https://packages.microsoft.com/repos/azure-cli jammy/main amd64 azure-cli amd64 2.55.0-1~jammy [65.6 MB]\n",
            "Fetched 65.6 MB in 1s (47.8 MB/s)\n",
            "Selecting previously unselected package azure-cli.\n",
            "(Reading database ... 121662 files and directories currently installed.)\n",
            "Preparing to unpack .../azure-cli_2.55.0-1~jammy_amd64.deb ...\n",
            "Unpacking azure-cli (2.55.0-1~jammy) ...\n",
            "Setting up azure-cli (2.55.0-1~jammy) ...\n"
          ]
        }
      ],
      "source": [
        "!curl -sL https://aka.ms/InstallAzureCLIDeb | sudo bash"
      ]
    },
    {
      "cell_type": "code",
      "execution_count": 2,
      "metadata": {
        "colab": {
          "base_uri": "https://localhost:8080/"
        },
        "id": "GV2zI4hQv3q5",
        "outputId": "b9842ef4-bae6-43bb-8a5a-10e8fe6b9ca9"
      },
      "outputs": [
        {
          "name": "stdout",
          "output_type": "stream",
          "text": [
            "\n",
            "Welcome to Azure CLI!\n",
            "---------------------\n",
            "Use `az -h` to see available commands or go to https://aka.ms/cli.\n",
            "\n",
            "Telemetry\n",
            "---------\n",
            "The Azure CLI collects usage data in order to improve your experience.\n",
            "The data is anonymous and does not include commandline argument values.\n",
            "The data is collected by Microsoft.\n",
            "\n",
            "You can change your telemetry settings with `az configure`.\n",
            "\n",
            "\n",
            "     /\\\n",
            "    /  \\    _____   _ _  ___ _\n",
            "   / /\\ \\  |_  / | | | \\'__/ _\\\n",
            "  / ____ \\  / /| |_| | | |  __/\n",
            " /_/    \\_\\/___|\\__,_|_|  \\___|\n",
            "\n",
            "\n",
            "Welcome to the cool new Azure CLI!\n",
            "\n",
            "Use `az --version` to display the current version.\n",
            "Here are the base commands:\n",
            "\n",
            "    account             : Manage Azure subscription information.\n",
            "    acr                 : Manage private registries with Azure Container Registries.\n",
            "    ad                  : Manage Azure Active Directory Graph entities needed for Role Based Access\n",
            "                         Control.\n",
            "    advisor             : Manage Azure Advisor.\n",
            "    afd                 : Manage Azure Front Door Standard/Premium. For classical Azure Front Door,\n",
            "                         please refer https://docs.microsoft.com/en-us/cli/azure/network/front-\n",
            "                         door?view=azure-cli-latest.\n",
            "    aks                 : Manage Azure Kubernetes Services.\n",
            "    ams                 : Manage Azure Media Services resources.\n",
            "    apim                : Manage Azure API Management services.\n",
            "    appconfig           : Manage App Configurations.\n",
            "    appservice          : Manage App Service plans.\n",
            "    aro                 : Manage Azure Red Hat OpenShift clusters.\n",
            "    backup              : Manage Azure Backups.\n",
            "    batch               : Manage Azure Batch.\n",
            "    bicep               : Bicep CLI command group.\n",
            "    billing             : Manage Azure Billing.\n",
            "    bot                 : Manage Microsoft Azure Bot Service.\n",
            "    cache               : Commands to manage CLI objects cached using the `--defer` argument.\n",
            "    capacity            : Manage capacity.\n",
            "    cdn                 : Manage Azure Content Delivery Networks (CDNs).\n",
            "    cloud               : Manage registered Azure clouds.\n",
            "    cognitiveservices   : Manage Azure Cognitive Services accounts.\n",
            "    config              : Manage Azure CLI configuration.\n",
            "    configure           : Manage Azure CLI configuration. This command is interactive.\n",
            "    connection          : Commands to manage Service Connector local connections which allow local\n",
            "                         environment to connect Azure Resource. If you want to manage connection for\n",
            "                         compute service, please run 'az webapp/containerapp/spring connection'.\n",
            "    consumption         : Manage consumption of Azure resources.\n",
            "    container           : Manage Azure Container Instances.\n",
            "    containerapp        : Manage Azure Container Apps.\n",
            "    cosmosdb            : Manage Azure Cosmos DB database accounts.\n",
            "    databoxedge         : Support data box edge device and management.\n",
            "    deployment          : Manage Azure Resource Manager template deployment at subscription scope.\n",
            "    deployment-scripts  : Manage deployment scripts at subscription or resource group scope.\n",
            "    disk                : Manage Azure Managed Disks.\n",
            "    disk-access         : Manage disk access resources.\n",
            "    disk-encryption-set : Disk Encryption Set resource.\n",
            "    dla                 : Manage Data Lake Analytics accounts, jobs, and catalogs.\n",
            "    dls                 : Manage Data Lake Store accounts and filesystems.\n",
            "    dms                 : Manage Azure Data Migration Service (classic) instances.\n",
            "    eventgrid           : Manage Azure Event Grid topics, domains, domain topics, system topics\n",
            "                         partner topics, event subscriptions, system topic event subscriptions and\n",
            "                         partner topic event subscriptions.\n",
            "    eventhubs           : Eventhubs.\n",
            "    extension           : Manage and update CLI extensions.\n",
            "    feature             : Manage resource provider features.\n",
            "    feedback            : Send feedback to the Azure CLI Team.\n",
            "    find                : I'm an AI robot, my advice is based on our Azure documentation as well as\n",
            "                         the usage patterns of Azure CLI and Azure ARM users. Using me improves\n",
            "                         Azure products and documentation.\n",
            "    functionapp         : Manage function apps. To install the Azure Functions Core tools see\n",
            "                         https://github.com/Azure/azure-functions-core-tools.\n",
            "    group               : Manage resource groups and template deployments.\n",
            "    hdinsight           : Manage HDInsight resources.\n",
            "    identity            : Managed Identities.\n",
            "    image               : Manage custom virtual machine images.\n",
            "    interactive         : Start interactive mode. Installs the Interactive extension if not\n",
            "                         installed already.\n",
            "    iot                 : Manage Internet of Things (IoT) assets.\n",
            "    keyvault            : Manage KeyVault keys, secrets, and certificates.\n",
            "    kusto               : Manage Azure Kusto resources.\n",
            "    lab                 : Manage Azure DevTest Labs.\n",
            "    lock                : Manage Azure locks.\n",
            "    logicapp            : Manage logic apps.\n",
            "    login               : Log in to Azure.\n",
            "    logout              : Log out to remove access to Azure subscriptions.\n",
            "    managed-cassandra   : Azure Managed Cassandra.\n",
            "    managedapp          : Manage template solutions provided and maintained by Independent Software\n",
            "                         Vendors (ISVs).\n",
            "    managedservices     : Manage the registration assignments and definitions in Azure.\n",
            "    maps                : Manage Azure Maps.\n",
            "    mariadb             : Manage Azure Database for MariaDB servers.\n",
            "    monitor             : Manage the Azure Monitor Service.\n",
            "    mysql               : Manage Azure Database for MySQL servers.\n",
            "    netappfiles         : Manage Azure NetApp Files (ANF) Resources.\n",
            "    network             : Manage Azure Network resources.\n",
            "    policy              : Manage resource policies.\n",
            "    postgres            : Manage Azure Database for PostgreSQL servers.\n",
            "    ppg                 : Manage Proximity Placement Groups.\n",
            "    private-link        : Private-link association CLI command group.\n",
            "    provider            : Manage resource providers.\n",
            "    redis               : Manage dedicated Redis caches for your Azure applications.\n",
            "    relay               : Manage Azure Relay Service namespaces, WCF relays, hybrid connections, and\n",
            "                         rules.\n",
            "    resource            : Manage Azure resources.\n",
            "    resourcemanagement  : Resourcemanagement CLI command group.\n",
            "    rest                : Invoke a custom request.\n",
            "    restore-point       : Manage restore point with res.\n",
            "    role                : Manage user roles for access control with Azure Active Directory and\n",
            "                         service principals.\n",
            "    search              : Manage Azure Search services, admin keys and query keys.\n",
            "    security            : Manage your security posture with Microsoft Defender for Cloud.\n",
            "    servicebus          : Servicebus.\n",
            "    sf                  : Manage and administer Azure Service Fabric clusters.\n",
            "    sig                 : Manage shared image gallery.\n",
            "    signalr             : Manage Azure SignalR Service.\n",
            "    snapshot            : Manage point-in-time copies of managed disks, native blobs, or other\n",
            "                         snapshots.\n",
            "    sql                 : Manage Azure SQL Databases and Data Warehouses.\n",
            "    sshkey              : Manage ssh public key with vm.\n",
            "    stack               : A deployment stack is a native Azure resource type that enables you to\n",
            "                         perform operations on a resource collection as an atomic unit.\n",
            "    staticwebapp        : Manage static apps.\n",
            "    storage             : Manage Azure Cloud Storage resources.\n",
            "    survey              : Take Azure CLI survey.\n",
            "    synapse             : Manage and operate Synapse Workspace, Spark Pool, SQL Pool.\n",
            "    tag                 : Tag Management on a resource.\n",
            "    term                : Manage marketplace agreement with marketplaceordering.\n",
            "    ts                  : Manage template specs at subscription or resource group scope.\n",
            "    upgrade             : Upgrade Azure CLI and extensions.\n",
            "    version             : Show the versions of Azure CLI modules and extensions in JSON format by\n",
            "                         default or format configured by --output.\n",
            "    vm                  : Manage Linux or Windows virtual machines.\n",
            "    vmss                : Manage groupings of virtual machines in an Azure Virtual Machine Scale Set\n",
            "                         (VMSS).\n",
            "    webapp              : Manage web apps.\n"
          ]
        }
      ],
      "source": [
        "!az"
      ]
    },
    {
      "cell_type": "code",
      "execution_count": 3,
      "metadata": {
        "colab": {
          "base_uri": "https://localhost:8080/"
        },
        "id": "9gJGgWWHw1ZG",
        "outputId": "56c6e41d-3006-4288-ee47-219a80beba88"
      },
      "outputs": [
        {
          "name": "stdout",
          "output_type": "stream",
          "text": [
            "\u001b[93mTo sign in, use a web browser to open the page https://microsoft.com/devicelogin and enter the code FSXT2PPZ7 to authenticate.\u001b[0m\n",
            "[\n",
            "  {\n",
            "    \"cloudName\": \"AzureCloud\",\n",
            "    \"homeTenantId\": \"f1e8d236-4e69-4b03-b0ed-a3ac59e5d212\",\n",
            "    \"id\": \"a9096840-81c4-4973-9f6f-b476b8841194\",\n",
            "    \"isDefault\": true,\n",
            "    \"managedByTenants\": [],\n",
            "    \"name\": \"Azure subscription 1\",\n",
            "    \"state\": \"Enabled\",\n",
            "    \"tenantId\": \"f1e8d236-4e69-4b03-b0ed-a3ac59e5d212\",\n",
            "    \"user\": {\n",
            "      \"name\": \"layla.scheli@bigdataacademy.org\",\n",
            "      \"type\": \"user\"\n",
            "    }\n",
            "  }\n",
            "]\n"
          ]
        }
      ],
      "source": [
        "!az login"
      ]
    },
    {
      "cell_type": "code",
      "execution_count": 4,
      "metadata": {
        "colab": {
          "base_uri": "https://localhost:8080/"
        },
        "id": "m5YlgBkzyYsQ",
        "outputId": "b0dedcac-58a7-47a4-d1bb-5f92b86e1bc1"
      },
      "outputs": [
        {
          "name": "stdout",
          "output_type": "stream",
          "text": [
            "EnvironmentName    HomeTenantId                          IsDefault    Name                  State    TenantId\n",
            "-----------------  ------------------------------------  -----------  --------------------  -------  ------------------------------------\n",
            "AzureCloud         f1e8d236-4e69-4b03-b0ed-a3ac59e5d212  True         Azure subscription 1  Enabled  f1e8d236-4e69-4b03-b0ed-a3ac59e5d212\n"
          ]
        }
      ],
      "source": [
        "!az account show --output table"
      ]
    },
    {
      "cell_type": "code",
      "execution_count": 5,
      "metadata": {
        "colab": {
          "base_uri": "https://localhost:8080/"
        },
        "id": "QFQGYH5EzoyA",
        "outputId": "9db2ce7a-6350-4acb-b4b1-c1897d195bf6"
      },
      "outputs": [
        {
          "name": "stdout",
          "output_type": "stream",
          "text": [
            "{\n",
            "  \"id\": \"/subscriptions/a9096840-81c4-4973-9f6f-b476b8841194/resourceGroups/SESION02\",\n",
            "  \"location\": \"eastus\",\n",
            "  \"managedBy\": null,\n",
            "  \"name\": \"SESION02\",\n",
            "  \"properties\": {\n",
            "    \"provisioningState\": \"Succeeded\"\n",
            "  },\n",
            "  \"tags\": null,\n",
            "  \"type\": \"Microsoft.Resources/resourceGroups\"\n",
            "}\n"
          ]
        }
      ],
      "source": [
        "!az group create --location eastus --name rg_cf"
      ]
    },
    {
      "cell_type": "code",
      "execution_count": 6,
      "metadata": {
        "colab": {
          "base_uri": "https://localhost:8080/"
        },
        "id": "xS7RbD0Kz0vN",
        "outputId": "e06c48c4-0e61-4f9d-e762-42399c351832"
      },
      "outputs": [
        {
          "name": "stdout",
          "output_type": "stream",
          "text": [
            "[\n",
            "  {\n",
            "    \"id\": \"/subscriptions/a9096840-81c4-4973-9f6f-b476b8841194/resourceGroups/prueba001\",\n",
            "    \"location\": \"eastus\",\n",
            "    \"managedBy\": null,\n",
            "    \"name\": \"prueba001\",\n",
            "    \"properties\": {\n",
            "      \"provisioningState\": \"Succeeded\"\n",
            "    },\n",
            "    \"tags\": {},\n",
            "    \"type\": \"Microsoft.Resources/resourceGroups\"\n",
            "  },\n",
            "  {\n",
            "    \"id\": \"/subscriptions/a9096840-81c4-4973-9f6f-b476b8841194/resourceGroups/SESION02\",\n",
            "    \"location\": \"eastus\",\n",
            "    \"managedBy\": null,\n",
            "    \"name\": \"SESION02\",\n",
            "    \"properties\": {\n",
            "      \"provisioningState\": \"Succeeded\"\n",
            "    },\n",
            "    \"tags\": null,\n",
            "    \"type\": \"Microsoft.Resources/resourceGroups\"\n",
            "  }\n",
            "]\n"
          ]
        }
      ],
      "source": [
        "!az group list"
      ]
    },
    {
      "cell_type": "code",
      "execution_count": 8,
      "metadata": {
        "colab": {
          "base_uri": "https://localhost:8080/"
        },
        "id": "FotVflwi1jjh",
        "outputId": "08b74c96-dc75-4e03-ebe5-010bd222f804"
      },
      "outputs": [
        {
          "name": "stdout",
          "output_type": "stream",
          "text": [
            "Are you sure you want to perform this operation? (y/n): y\n",
            "y\n",
            "\u001b[K"
          ]
        }
      ],
      "source": [
        "!az group delete -n rg_cf"
      ]
    },
    {
      "cell_type": "code",
      "execution_count": 9,
      "metadata": {
        "colab": {
          "base_uri": "https://localhost:8080/"
        },
        "id": "1rR2Y6701268",
        "outputId": "b3b946cd-f6a5-4ea1-d80e-61055835401a"
      },
      "outputs": [
        {
          "name": "stdout",
          "output_type": "stream",
          "text": [
            "[\n",
            "  {\n",
            "    \"id\": \"/subscriptions/a9096840-81c4-4973-9f6f-b476b8841194/resourceGroups/prueba001\",\n",
            "    \"location\": \"eastus\",\n",
            "    \"managedBy\": null,\n",
            "    \"name\": \"prueba001\",\n",
            "    \"properties\": {\n",
            "      \"provisioningState\": \"Succeeded\"\n",
            "    },\n",
            "    \"tags\": {},\n",
            "    \"type\": \"Microsoft.Resources/resourceGroups\"\n",
            "  }\n",
            "]\n"
          ]
        }
      ],
      "source": [
        "!az group list"
      ]
    }
  ],
  "metadata": {
    "colab": {
      "provenance": []
    },
    "kernelspec": {
      "display_name": "Python 3",
      "name": "python3"
    },
    "language_info": {
      "name": "python"
    }
  },
  "nbformat": 4,
  "nbformat_minor": 0
}
